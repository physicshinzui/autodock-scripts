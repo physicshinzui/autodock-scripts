{
 "cells": [
  {
   "cell_type": "code",
   "execution_count": 8,
   "id": "c0fb2b84",
   "metadata": {},
   "outputs": [
    {
     "name": "stdout",
     "output_type": "stream",
     "text": [
      "[[-34.808  16.588  48.236]\n",
      " [-34.1    15.48   47.592]\n",
      " [-34.909  14.801  46.465]\n",
      " ...\n",
      " [-26.878  15.623  41.742]\n",
      " [-25.139  14.922  44.009]\n",
      " [-25.144  17.451  43.305]]\n"
     ]
    }
   ],
   "source": [
    "from MDAnalysis import Universe\n",
    "import numpy as np\n",
    "def set2origin(pdb):\n",
    "    u = Universe(pdb)\n",
    "    r = (u.atoms.positions)\n",
    "\n",
    "def main():\n",
    "    pdb = \"inputs/target1/target1_6m0j.pdb\"\n",
    "    u = set2origin(pdb)\n",
    "    #u.write(f\"a.pdb\")\n",
    "main()"
   ]
  },
  {
   "cell_type": "code",
   "execution_count": null,
   "id": "9b390959",
   "metadata": {},
   "outputs": [],
   "source": []
  }
 ],
 "metadata": {
  "kernelspec": {
   "display_name": "Python 3",
   "language": "python",
   "name": "python3"
  },
  "language_info": {
   "codemirror_mode": {
    "name": "ipython",
    "version": 3
   },
   "file_extension": ".py",
   "mimetype": "text/x-python",
   "name": "python",
   "nbconvert_exporter": "python",
   "pygments_lexer": "ipython3",
   "version": "3.7.12"
  }
 },
 "nbformat": 4,
 "nbformat_minor": 5
}
